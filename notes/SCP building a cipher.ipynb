{
 "cells": [
  {
   "cell_type": "code",
   "execution_count": 24,
   "id": "23146f15-52b3-4bb9-ba13-d43a39f30cf0",
   "metadata": {},
   "outputs": [
    {
     "name": "stdout",
     "output_type": "stream",
     "text": [
      "char: h encrypted text: k\n",
      "char: e encrypted text: kh\n",
      "char: l encrypted text: kho\n",
      "char: l encrypted text: khoo\n",
      "char: o encrypted text: khoor\n",
      "char:   encrypted text: khoor c\n",
      "char: w encrypted text: khoor cz\n",
      "char: o encrypted text: khoor czr\n",
      "char: r encrypted text: khoor czru\n",
      "char: l encrypted text: khoor czruo\n",
      "char: d encrypted text: khoor czruog\n"
     ]
    }
   ],
   "source": [
    "#string manipulation by building a cipher\n",
    "text = 'Hello World'\n",
    "shift = 3\n",
    "alphabet = 'abcdefghijklmnopqrstuvwxyz'\n",
    "encrypted_text = ''#declaring a varible that can contain any value during the code running \n",
    "\n",
    "for char in text.lower():#H and W will not be found without hte use of lower() , they will appear as -1\n",
    "    if char == ' ':\n",
    "        encrypted_text += char # += augmented assignment operator , # a space is added to the encrypted_text than the code outside if excute the c !!!! \n",
    "#the space id firstly added because char=' ' but how about the c ? without using else python tries to execute the code normally ooutside the if so for \n",
    "#the space it's not found in alphabet so it will be -1 index and with the shift will be 2 index which is C in the alphabet\n",
    "        \n",
    "    index = alphabet.find(char) \n",
    "    new_index = index + shift\n",
    "    encrypted_text += alphabet[new_index]\n",
    "    print('char:', char, 'encrypted text:', encrypted_text)#print() is inside the loop so each time it print the value of the encrypted text "
   ]
  },
  {
   "cell_type": "code",
   "execution_count": 2,
   "id": "157b865a-0984-4829-8681-de879a6b9ea4",
   "metadata": {},
   "outputs": [
    {
     "name": "stdout",
     "output_type": "stream",
     "text": [
      "char: d encrypted text: khoor zruog\n"
     ]
    }
   ],
   "source": [
    "text = 'Hello World'\n",
    "shift = 3\n",
    "alphabet = 'abcdefghijklmnopqrstuvwxyz'\n",
    "encrypted_text = ''\n",
    "\n",
    "for char in text.lower():\n",
    "    if char == ' ':\n",
    "        encrypted_text += char\n",
    "    else:#with else python will execute only the if for char=' ' ,so else is nedeed to execute the if properly \n",
    "        index = alphabet.find(char)\n",
    "        new_index = index + shift\n",
    "        encrypted_text += alphabet[new_index]\n",
    "print('char:', char, 'encrypted text:', encrypted_text) #here the print() is outside the loop so it prints only once after everything finish \n",
    "#we can simply use print ('encrypted_text:,encrypted_text)"
   ]
  },
  {
   "cell_type": "code",
   "execution_count": 26,
   "id": "4630709e-9aa3-4024-a9e7-7894539a5351",
   "metadata": {},
   "outputs": [
    {
     "name": "stdout",
     "output_type": "stream",
     "text": [
      "plain texr: Hello Zaira\n",
      "encrypted text: khoor cdlud\n"
     ]
    }
   ],
   "source": [
    "text = 'Hello Zaira'#for z there's no index+shift ( out of range) to sole that we us the modulo \n",
    "shift = 3\n",
    "alphabet = 'abcdefghijklmnopqrstuvwxyz'\n",
    "encrypted_text = ''\n",
    "\n",
    "for char in text.lower():\n",
    "    if char == ' ':\n",
    "        encrypted_text += char\n",
    "    else:\n",
    "        index = alphabet.find(char)\n",
    "        new_index = (index + shift)%len(alphabet)#now when z new index is not found python return to the begining of the string firstly we used (index+shift)%26 (alphabet number ) but it's better to use alphabet len\n",
    "        encrypted_text += alphabet[new_index]\n",
    "print(\"plain texr:\",text)\n",
    "print( 'encrypted text:', encrypted_text)"
   ]
  },
  {
   "cell_type": "code",
   "execution_count": 27,
   "id": "8d63bef6-0014-482c-a86f-a5d516436d67",
   "metadata": {},
   "outputs": [
    {
     "name": "stdout",
     "output_type": "stream",
     "text": [
      "plain text: Hello Zaira\n",
      "encrypted text: khoor cdlud\n"
     ]
    }
   ],
   "source": [
    "##functon declaration \n",
    "text = 'Hello Zaira'\n",
    "shift = 3\n",
    "def caesar():\n",
    "    alphabet = 'abcdefghijklmnopqrstuvwxyz'\n",
    "    encrypted_text = ''\n",
    "    for char in text.lower():\n",
    "        if char == ' ':\n",
    "            encrypted_text += char\n",
    "        else:\n",
    "            index = alphabet.find(char)\n",
    "            new_index = (index + shift) % len(alphabet)\n",
    "            encrypted_text += alphabet[new_index]\n",
    "    print('plain text:', text)\n",
    "    print('encrypted text:', encrypted_text)\n",
    "caesar()\n",
    "##before calling the function at the end nothing is executed    \n",
    "## we indent all the lines after the function to give the function a body\n",
    "##here all the variables are defined inside the function and they are not accessible outside it \n"
   ]
  },
  {
   "cell_type": "code",
   "execution_count": 1,
   "id": "4b3dc398-4dc9-4cff-a3dd-e316a7ae370e",
   "metadata": {},
   "outputs": [
    {
     "ename": "NameError",
     "evalue": "name 'alphabet' is not defined",
     "output_type": "error",
     "traceback": [
      "\u001b[1;31m---------------------------------------------------------------------------\u001b[0m",
      "\u001b[1;31mNameError\u001b[0m                                 Traceback (most recent call last)",
      "Cell \u001b[1;32mIn[1], line 1\u001b[0m\n\u001b[1;32m----> 1\u001b[0m \u001b[38;5;28mprint\u001b[39m(alphabet)\n",
      "\u001b[1;31mNameError\u001b[0m: name 'alphabet' is not defined"
     ]
    }
   ],
   "source": [
    "print(alphabet)## the variable is not accessible outside the function "
   ]
  },
  {
   "cell_type": "code",
   "execution_count": 2,
   "id": "a04bede2-3060-4058-9062-1eb00aea58a4",
   "metadata": {},
   "outputs": [
    {
     "ename": "NameError",
     "evalue": "name 'alphabet' is not defined",
     "output_type": "error",
     "traceback": [
      "\u001b[1;31m---------------------------------------------------------------------------\u001b[0m",
      "\u001b[1;31mNameError\u001b[0m                                 Traceback (most recent call last)",
      "Cell \u001b[1;32mIn[2], line 1\u001b[0m\n\u001b[1;32m----> 1\u001b[0m \u001b[38;5;28mprint\u001b[39m(alphabet)\n",
      "\u001b[1;31mNameError\u001b[0m: name 'alphabet' is not defined"
     ]
    }
   ],
   "source": [
    "print(alphabet) ## this variable is not accessible outside the function "
   ]
  },
  {
   "cell_type": "code",
   "execution_count": 15,
   "id": "fcdf112b-ec20-4888-bf13-f147d1da424f",
   "metadata": {},
   "outputs": [
    {
     "name": "stdout",
     "output_type": "stream",
     "text": [
      "plain text: Hello Zaira\n",
      "encrypted text: khoor cdlud\n"
     ]
    }
   ],
   "source": [
    "text = 'Hello Zaira'\n",
    "shift = 3\n",
    "\n",
    "def caesar(message, offset):\n",
    "    alphabet = 'abcdefghijklmnopqrstuvwxyz'\n",
    "    encrypted_text = ''\n",
    "\n",
    "    for char in message.lower():\n",
    "        if char == ' ':\n",
    "            encrypted_text += char\n",
    "        else:\n",
    "            index = alphabet.find(char)\n",
    "            new_index = (index + offset) % len(alphabet)\n",
    "            encrypted_text += alphabet[new_index]\n",
    "    print('plain text:', message)\n",
    "    print('encrypted text:', encrypted_text)\n",
    "caesar(text,shift)\n",
    "##the variables are not clear here????!!!!!!! # offset an message are genral like x and y they can contain any varibles !!\n",
    "##we cannot call the function by def caesar() , because it's defined with two parameters"
   ]
  },
  {
   "cell_type": "code",
   "execution_count": 34,
   "id": "facaf515-8f10-43c9-aa3d-5e9ba96f7a8e",
   "metadata": {},
   "outputs": [
    {
     "name": "stdout",
     "output_type": "stream",
     "text": [
      "w\n"
     ]
    }
   ],
   "source": [
    "text = 'Hello Zaira'\n",
    "custom_key = 'python'\n",
    "\n",
    "def vigenere(message, key):\n",
    "    key_index=0\n",
    "    alphabet = 'abcdefghijklmnopqrstuvwxyz'\n",
    "    encrypted_text = ''\n",
    "\n",
    "    for char in message.lower():\n",
    "        if char == ' ':\n",
    "            encrypted_text += char\n",
    "        else:\n",
    "            #Find the right key character to encode \n",
    "            key_char=key[key_index%len(key)] ##why we use the offset ??\n",
    "            key_index+=1 ##why it should be increased by 1 exactly?to go frm 0 to 1  and so on \n",
    "            #define the offset and the encrypted letter\n",
    "            offset=alphabet.index(key_char)## why we used offset exactly \n",
    "            index = alphabet.find(char)\n",
    "            new_index = (index + offset) % len(alphabet)\n",
    "            encrypted_text += alphabet[new_index]  \n",
    "        return encrypted_text ##why in the absence of this the prompt is None # making the return at the for loop changes the result completeky \n",
    "encryption = vigenere(text,custom_key)\n",
    "print(encryption) ##the prompt is for this line \n",
    "   "
   ]
  },
  {
   "cell_type": "code",
   "execution_count": 35,
   "id": "0bb9f394-8bbd-4630-9d76-bdd47cecbbd6",
   "metadata": {},
   "outputs": [
    {
     "name": "stdout",
     "output_type": "stream",
     "text": [
      "wcesc mpgkh\n"
     ]
    }
   ],
   "source": [
    "text = 'Hello Zaira'\n",
    "custom_key = 'python'\n",
    "\n",
    "def vigenere(message, key):\n",
    "    key_index = 0\n",
    "    alphabet = 'abcdefghijklmnopqrstuvwxyz'\n",
    "    encrypted_text = ''\n",
    "\n",
    "    for char in message.lower():\n",
    "    \n",
    "        # Append space to the message\n",
    "        if char == ' ':\n",
    "            encrypted_text += char\n",
    "        else:        \n",
    "            # Find the right key character to encode\n",
    "            key_char = key[key_index % len(key)]\n",
    "            key_index += 1\n",
    "\n",
    "            # Define the offset and the encrypted letter\n",
    "            offset = alphabet.index(key_char)\n",
    "            index = alphabet.find(char)\n",
    "            new_index = (index + offset) % len(alphabet)\n",
    "            encrypted_text += alphabet[new_index]\n",
    "    \n",
    "    return encrypted_text\n",
    "\n",
    "encryption = vigenere(text, custom_key)\n",
    "print(encryption)\n",
    "\n"
   ]
  },
  {
   "cell_type": "code",
   "execution_count": 40,
   "id": "e62230b3-b3ea-424f-97a9-1a08237acc0e",
   "metadata": {},
   "outputs": [
    {
     "name": "stdout",
     "output_type": "stream",
     "text": [
      "wcesc mpgkh\n",
      "hello zaira\n"
     ]
    }
   ],
   "source": [
    "#Adding new parameter to the function to include both encrypttion and decryption \n",
    "text = 'Hello Zaira'\n",
    "custom_key = 'python'\n",
    "\n",
    "def vigenere(message, key, direction):\n",
    "    key_index = 0\n",
    "    alphabet = 'abcdefghijklmnopqrstuvwxyz'\n",
    "    encrypted_text = ''\n",
    "\n",
    "    for char in message.lower():\n",
    "    \n",
    "        # Append space to the message\n",
    "        if char == ' ':\n",
    "            encrypted_text += char\n",
    "        else:        \n",
    "            # Find the right key character to encode\n",
    "            key_char = key[key_index % len(key)]\n",
    "            key_index += 1\n",
    "\n",
    "            # Define the offset and the encrypted letter\n",
    "            offset = alphabet.index(key_char)\n",
    "            index = alphabet.find(char)\n",
    "            new_index = (index + offset*direction) % len(alphabet)\n",
    "            encrypted_text += alphabet[new_index]\n",
    "    \n",
    "    return encrypted_text\n",
    "    \n",
    "encryption = vigenere(text, custom_key, 1)##we call thesee inside arguments \n",
    "print(encryption) \n",
    "decryption=vigenere(encryption,custom_key,-1)#we didn't defined direction before is it because it wiil only take numbers as values\n",
    "print(decryption)"
   ]
  },
  {
   "cell_type": "code",
   "execution_count": 42,
   "id": "a7cc9003-b4c5-4969-ab72-f62a465e2036",
   "metadata": {},
   "outputs": [
    {
     "name": "stdout",
     "output_type": "stream",
     "text": [
      "wcesc mpgkh\n",
      "hello zaira\n"
     ]
    }
   ],
   "source": [
    "text = 'Hello Zaira'\n",
    "custom_key = 'python'\n",
    "\n",
    "def vigenere(message, key, direction=1):##we gave the direction a default value which is 1 \n",
    "    key_index = 0\n",
    "    alphabet = 'abcdefghijklmnopqrstuvwxyz'\n",
    "    final_message = ''\n",
    "\n",
    "    for char in message.lower():\n",
    "    \n",
    "        # Append space to the message\n",
    "        if char == ' ':\n",
    "            final_message += char\n",
    "        else:        \n",
    "            # Find the right key character to encode/decode\n",
    "            key_char = key[key_index % len(key)]\n",
    "            key_index += 1\n",
    "\n",
    "            # Define the offset and the encrypted/decrypted letter\n",
    "            offset = alphabet.index(key_char)\n",
    "            index = alphabet.find(char)\n",
    "            new_index = (index + offset*direction) % len(alphabet)\n",
    "            final_message += alphabet[new_index]\n",
    "    \n",
    "    return final_message\n",
    "    \n",
    "encryption = vigenere(text, custom_key) ## the default value is used here since we didn't mention a value \n",
    "print(encryption)\n",
    "decryption = vigenere(encryption, custom_key, -1)\n",
    "print(decryption)"
   ]
  },
  {
   "cell_type": "code",
   "execution_count": 1,
   "id": "8c101c85-09ed-46c0-905b-311fee35ad73",
   "metadata": {},
   "outputs": [
    {
     "name": "stdout",
     "output_type": "stream",
     "text": [
      "helloozairax\n",
      "helloozairax\n"
     ]
    }
   ],
   "source": [
    "text = 'Hello Zaira!'\n",
    "custom_key = 'python'\n",
    "\n",
    "def vigenere(message, key, direction=1):\n",
    "    key_index = 0\n",
    "    alphabet = 'abcdefghijklmnopqrstuvwxyz'\n",
    "    final_message = ''\n",
    "\n",
    "    for char in message.lower():\n",
    "        # Append space to the message\n",
    "        if char.isalpha():\n",
    "            final_message += char\n",
    "        else:        \n",
    "            # Find the right key character to encode/decode\n",
    "            key_char = key[key_index % len(key)]\n",
    "            key_index += 1\n",
    "\n",
    "            # Define the offset and the encrypted/decrypted letter\n",
    "            offset = alphabet.index(key_char)\n",
    "            index = alphabet.find(char)\n",
    "            new_index = (index + offset*direction) % len(alphabet)\n",
    "            final_message += alphabet[new_index]\n",
    "    \n",
    "    return final_message\n",
    "## the space and the ! are assigned as zero in the else part , the isalpha checks if all carachters are letters no space no symbols \n",
    "encryption = vigenere(text, custom_key)\n",
    "print(encryption)\n",
    "decryption = vigenere(encryption, custom_key, -1)\n",
    "print(decryption)"
   ]
  },
  {
   "cell_type": "code",
   "execution_count": 3,
   "id": "b202f823-6751-4638-b819-34570b007b83",
   "metadata": {},
   "outputs": [
    {
     "name": "stdout",
     "output_type": "stream",
     "text": [
      "wcesc mpgkh!\n",
      "hello zaira!\n"
     ]
    }
   ],
   "source": [
    "text = 'Hello Zaira!'\n",
    "custom_key = 'python'\n",
    "\n",
    "def vigenere(message, key, direction=1):\n",
    "    key_index = 0\n",
    "    alphabet = 'abcdefghijklmnopqrstuvwxyz'\n",
    "    final_message = ''\n",
    "\n",
    "    for char in message.lower():\n",
    "        # Append any non-letter character to the message\n",
    "        if not char.isalpha():\n",
    "            final_message += char\n",
    "        else:        \n",
    "            # Find the right key character to encode/decode\n",
    "            key_char = key[key_index % len(key)]\n",
    "            key_index += 1\n",
    "\n",
    "            # Define the offset and the encrypted/decrypted letter\n",
    "            offset = alphabet.index(key_char)\n",
    "            index = alphabet.find(char)\n",
    "            new_index = (index + offset*direction) % len(alphabet)\n",
    "            final_message += alphabet[new_index]\n",
    "     \n",
    "    return final_message\n",
    "    \n",
    "encryption = vigenere(text, custom_key)\n",
    "print(encryption)\n",
    "decryption = vigenere(encryption, custom_key, -1)\n",
    "print(decryption)\n",
    "def encrypt(messsage,key):\n",
    "    return vigenere(message,key)"
   ]
  },
  {
   "cell_type": "code",
   "execution_count": 7,
   "id": "5041d723-91d8-4d07-9a58-1700c772464f",
   "metadata": {},
   "outputs": [
    {
     "name": "stdout",
     "output_type": "stream",
     "text": [
      "wcesc mpgkh!\n",
      "hello zaira!\n"
     ]
    }
   ],
   "source": [
    "text = 'Hello Zaira!'\n",
    "custom_key = 'python'\n",
    "\n",
    "def vigenere(message, key, direction=1):\n",
    "    key_index = 0\n",
    "    alphabet = 'abcdefghijklmnopqrstuvwxyz'\n",
    "    final_message = ''\n",
    "\n",
    "    for char in message.lower():\n",
    "\n",
    "        # Append any non-letter character to the message\n",
    "        if not char.isalpha():\n",
    "            final_message += char\n",
    "        else:        \n",
    "            # Find the right key character to encode/decode\n",
    "            key_char = key[key_index % len(key)]\n",
    "            key_index += 1\n",
    "\n",
    "            # Define the offset and the encrypted/decrypted letter\n",
    "            offset = alphabet.index(key_char)\n",
    "            index = alphabet.find(char)\n",
    "            new_index = (index + offset*direction) % len(alphabet)\n",
    "            final_message += alphabet[new_index]\n",
    "    \n",
    "    return final_message\n",
    "def encrypt(message, key):\n",
    "    return vigenere(message, key)\n",
    "    \n",
    "def decrypt(message, key):\n",
    "    return vigenere(message, key, -1)\n",
    "    \n",
    "encryption = encrypt(text, custom_key)\n",
    "print(encryption)\n",
    "decryption = decrypt(encryption, custom_key)\n",
    "print(decryption)"
   ]
  },
  {
   "cell_type": "code",
   "execution_count": 5,
   "id": "da72ed3e-7180-4f3e-a2ba-e0e8627919e4",
   "metadata": {},
   "outputs": [
    {
     "name": "stdout",
     "output_type": "stream",
     "text": [
      "12\n"
     ]
    }
   ],
   "source": [
    "def add(x,y):\n",
    "    return x+y \n",
    "result=add(3,9)\n",
    "print(result)\n"
   ]
  },
  {
   "cell_type": "code",
   "execution_count": 4,
   "id": "8351a0a4-98a6-4ab9-833f-f57bc1c0ac65",
   "metadata": {},
   "outputs": [
    {
     "name": "stdout",
     "output_type": "stream",
     "text": [
      "Encrypted text:mrttaqrhknsw ih puggrur\n",
      "Key: python\n"
     ]
    }
   ],
   "source": [
    "text = 'mrttaqrhknsw ih puggrur'\n",
    "custom_key = 'python'\n",
    "\n",
    "def vigenere(message, key, direction=1):\n",
    "    key_index = 0\n",
    "    alphabet = 'abcdefghijklmnopqrstuvwxyz'\n",
    "    final_message = ''\n",
    "\n",
    "    for char in message.lower():\n",
    "\n",
    "        # Append any non-letter character to the message\n",
    "        if not char.isalpha():\n",
    "            final_message += char\n",
    "        else:        \n",
    "            # Find the right key character to encode/decode\n",
    "            key_char = key[key_index % len(key)]\n",
    "            key_index += 1\n",
    "\n",
    "            # Define the offset and the encrypted/decrypted letter\n",
    "            offset = alphabet.index(key_char)\n",
    "            index = alphabet.find(char)\n",
    "            new_index = (index + offset*direction) % len(alphabet)\n",
    "            final_message += alphabet[new_index]\n",
    "    \n",
    "    return final_message\n",
    "\n",
    "def encrypt(message, key):\n",
    "    return vigenere(message, key)\n",
    "    \n",
    "def decrypt(message, key):\n",
    "    return vigenere(message, key, -1)\n",
    "print('Encrypted text:'+ text)\n",
    "print('Key: ' + custom_key)\n",
    "#decryption = decrypt(encryption, custom_key)\n",
    "#print(decryption)"
   ]
  },
  {
   "cell_type": "code",
   "execution_count": 8,
   "id": "368880c2-ad8d-4ba7-a0fa-2bb1d325734b",
   "metadata": {},
   "outputs": [
    {
     "name": "stdout",
     "output_type": "stream",
     "text": [
      "Encrypted text:mrttaqrhknsw ih puggrur\n",
      "Key:python\n",
      "\n",
      "Decrypted text: xtammdcjrgej tj wnstcwy\n",
      "\n"
     ]
    }
   ],
   "source": [
    "text = 'mrttaqrhknsw ih puggrur'\n",
    "custom_key = 'python'\n",
    "\n",
    "def vigenere(message, key, direction=1):\n",
    "    key_index = 0\n",
    "    alphabet = 'abcdefghijklmnopqrstuvwxyz'\n",
    "    final_message = ''\n",
    "\n",
    "    for char in message.lower():\n",
    "\n",
    "        # Append any non-letter character to the message\n",
    "        if not char.isalpha():\n",
    "            final_message += char\n",
    "        else:        \n",
    "            # Find the right key character to encode/decode\n",
    "            key_char = key[key_index % len(key)]\n",
    "            key_index += 1\n",
    "\n",
    "            # Define the offset and the encrypted/decrypted letter\n",
    "            offset = alphabet.index(key_char)\n",
    "            index = alphabet.find(char)\n",
    "            new_index = (index + offset*direction) % len(alphabet)\n",
    "            final_message += alphabet[new_index]\n",
    "    \n",
    "    return final_message\n",
    "\n",
    "def encrypt(message, key):\n",
    "    return vigenere(message, key)\n",
    "    \n",
    "def decrypt(message, key):\n",
    "    return vigenere(message, key, -1)\n",
    "print(f'Encrypted text:{text}')\n",
    "print(f'Key:{custom_key}') \n",
    "decryption = decrypt(text, custom_key)#why text instead of encryption \n",
    "print(f'\\nDecrypted text: {decryption}\\n')\n",
    "#\\n is to have a new line "
   ]
  },
  {
   "cell_type": "code",
   "execution_count": null,
   "id": "e33813ea-ae4c-45a6-a1d4-efc5b42ad9f6",
   "metadata": {},
   "outputs": [],
   "source": [
    "###DONE !!!!!!!!"
   ]
  }
 ],
 "metadata": {
  "kernelspec": {
   "display_name": "Python 3 (ipykernel)",
   "language": "python",
   "name": "python3"
  },
  "language_info": {
   "codemirror_mode": {
    "name": "ipython",
    "version": 3
   },
   "file_extension": ".py",
   "mimetype": "text/x-python",
   "name": "python",
   "nbconvert_exporter": "python",
   "pygments_lexer": "ipython3",
   "version": "3.12.7"
  }
 },
 "nbformat": 4,
 "nbformat_minor": 5
}
