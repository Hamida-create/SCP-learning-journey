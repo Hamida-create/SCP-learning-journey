{
 "cells": [
  {
   "cell_type": "code",
   "execution_count": 7,
   "id": "740c9003-6b59-4b1a-bcb8-9097f861e692",
   "metadata": {},
   "outputs": [
    {
     "name": "stdout",
     "output_type": "stream",
     "text": [
      "[1, 2, 3]\n",
      "1\n",
      "[0, 2, 3]\n",
      "[0, 1, 2, 3]\n",
      "[0, 1, 2]\n"
     ]
    }
   ],
   "source": [
    "my_list = [1, 2]\n",
    "\n",
    "my_list.append(3)\n",
    "print(my_list)\n",
    "\n",
    "print(my_list[0])\n",
    "\n",
    "my_list[0] = 0\n",
    "print(my_list)\n",
    "\n",
    "my_list.insert(1, 1)\n",
    "print(my_list)\n",
    "\n",
    "my_list.pop()\n",
    "print(my_list)"
   ]
  },
  {
   "cell_type": "code",
   "execution_count": null,
   "id": "c02d7043-26c6-4f50-8e9d-c0ccddbb5d63",
   "metadata": {},
   "outputs": [],
   "source": []
  },
  {
   "cell_type": "code",
   "execution_count": 5,
   "id": "804b7224-399f-445e-97f8-ffda3c81ebc1",
   "metadata": {},
   "outputs": [],
   "source": [
    "def add_expense(expenses,amount,category):\n",
    "    expenses=[]\n",
    "    expenses.append() #having 0 argument in the append give rise to an error outside the function \n",
    "   "
   ]
  },
  {
   "cell_type": "code",
   "execution_count": 2,
   "id": "53e490e7-9d2e-4762-94ec-074cacd2c62f",
   "metadata": {},
   "outputs": [],
   "source": [
    "def add_expense(expenses, amount, category):\n",
    "    expenses.append({'amount':amount})\n",
    "    amount={'amount':amount}\n",
    "\n",
    "expenses = []"
   ]
  },
  {
   "cell_type": "code",
   "execution_count": 3,
   "id": "20b8e4ae-5793-4c49-8a29-afc3f40b7028",
   "metadata": {},
   "outputs": [],
   "source": [
    "def add_expense(expenses, amount, category):\n",
    "    expenses.append({'amount': amount,'category':category})\n",
    "def print_expenses(expenses):\n",
    "    for expense in expenses:\n",
    "         print(f'Amount: {expense}, Category: {expense}')\n",
    "expenses = []"
   ]
  },
  {
   "cell_type": "code",
   "execution_count": 6,
   "id": "b9747e73-2180-4bbe-b4cc-75c964a9ea4a",
   "metadata": {},
   "outputs": [],
   "source": [
    "def add_expense(expenses, amount, category):\n",
    "    expenses.append({'amount': amount, 'category': category})\n",
    "    \n",
    "def print_expenses(expenses):\n",
    "    for expense in expenses:\n",
    "        print(f'Amount: {expense[\"amount\"]}, Category: {expense[\"category\"]}')\n",
    "def total_expenses(expenses):\n",
    "    pass\n",
    "\n",
    "expenses = []"
   ]
  },
  {
   "cell_type": "code",
   "execution_count": 1,
   "id": "eddb178d-f49a-43c0-9241-57102812e070",
   "metadata": {},
   "outputs": [
    {
     "name": "stdout",
     "output_type": "stream",
     "text": [
      "6\n"
     ]
    }
   ],
   "source": [
    "def add_expense(expenses, amount, category):\n",
    "    expenses.append({'amount': amount, 'category': category})\n",
    "    \n",
    "def print_expenses(expenses):\n",
    "    for expense in expenses:\n",
    "        print(f'Amount: {expense[\"amount\"]}, Category: {expense[\"category\"]}')\n",
    "\n",
    "def total_expenses(expenses):\n",
    "    pass\n",
    "    \n",
    "test = lambda x: x * 2\n",
    "print(test(3))\n",
    "\n",
    "expenses = []"
   ]
  },
  {
   "cell_type": "code",
   "execution_count": 1,
   "id": "8967fd38-16cc-4217-9d2d-bb4451dde0b4",
   "metadata": {},
   "outputs": [
    {
     "name": "stdout",
     "output_type": "stream",
     "text": [
      "<map object at 0x000001D70E487D90>\n"
     ]
    }
   ],
   "source": [
    "def add_expense(expenses, amount, category):\n",
    "    expenses.append({'amount': amount, 'category': category})\n",
    "    \n",
    "def print_expenses(expenses):\n",
    "    for expense in expenses:## we define the expenses as aa dictionary do we have many items within it not just amount + category_\n",
    "        print(f'Amount: {expense[\"amount\"]}, Category: {expense[\"category\"]}')\n",
    "\n",
    "def total_expenses(expenses):\n",
    "    pass\n",
    "    \n",
    "test = lambda x: x * 2\n",
    "print(map(test,[2,3,5,8]))\n",
    "\n",
    "expenses = []"
   ]
  },
  {
   "cell_type": "code",
   "execution_count": 2,
   "id": "d068a236-5958-4790-93af-5ad95b203248",
   "metadata": {},
   "outputs": [
    {
     "name": "stdout",
     "output_type": "stream",
     "text": [
      "[4, 6, 10, 16]\n"
     ]
    }
   ],
   "source": [
    "def add_expense(expenses, amount, category): ## here we're just introducing the arguments \n",
    "    expenses.append({'amount': amount, 'category': category})\n",
    "    \n",
    "def print_expenses(expenses):\n",
    "    for expense in expenses:\n",
    "        print(f'Amount: {expense[\"amount\"]}, Category: {expense[\"category\"]}')\n",
    "\n",
    "def total_expenses(expenses):\n",
    "    pass\n",
    "    \n",
    "test = lambda x: x * 2\n",
    "print(list(map(test, [2,3,5,8]))) ## list itself is't defined as a function in python ??? \n",
    "\n",
    "expenses = []"
   ]
  },
  {
   "cell_type": "code",
   "execution_count": 10,
   "id": "046bec67-0225-4036-a36b-d09ebf35acb4",
   "metadata": {},
   "outputs": [
    {
     "name": "stdout",
     "output_type": "stream",
     "text": [
      "36\n"
     ]
    }
   ],
   "source": [
    "def add_expense(expenses, amount, category):\n",
    "    expenses.append({'amount': amount, 'category': category})\n",
    "    \n",
    "def print_expenses(expenses):\n",
    "    for expense in expenses:\n",
    "        print(f'Amount: {expense[\"amount\"]}, Category: {expense[\"category\"]}')\n",
    "\n",
    "def total_expenses(expenses):\n",
    "    pass\n",
    "    \n",
    "test = lambda x: x * 2\n",
    "print(sum(map(test, [2,3,5,8])))\n",
    "\n",
    "expenses = []"
   ]
  },
  {
   "cell_type": "code",
   "execution_count": 8,
   "id": "6bcc641f-1f7c-4969-a5f1-27e5c616e3e3",
   "metadata": {},
   "outputs": [],
   "source": [
    "def add_expense(expenses, amount, category):\n",
    "    expenses.append({'amount': amount, 'category': category})\n",
    "    \n",
    "def print_expenses(expenses):\n",
    "    for expense in expenses:\n",
    "        print(f'Amount: {expense[\"amount\"]}, Category: {expense[\"category\"]}')\n",
    "    \n",
    "def total_expenses(expenses):\n",
    "    lambda expense:expense['amount'] #why using [] and not () or {}\n",
    "\n",
    "expenses = []"
   ]
  },
  {
   "cell_type": "code",
   "execution_count": 6,
   "id": "fcaa84c5-3e3e-4c39-8541-bd079657b7a2",
   "metadata": {},
   "outputs": [
    {
     "name": "stdout",
     "output_type": "stream",
     "text": [
      "16\n"
     ]
    }
   ],
   "source": [
    "dictionary={'hamida':16,'Bouchra':19}\n",
    "print(dictionary['hamida']) ## neither () or {} is valid u should use [] "
   ]
  },
  {
   "cell_type": "code",
   "execution_count": 9,
   "id": "ecea2385-47a5-4536-9a4c-f017abc3254e",
   "metadata": {},
   "outputs": [],
   "source": [
    "def add_expense(expenses, amount, category):\n",
    "    expenses.append({'amount': amount, 'category': category})\n",
    "    \n",
    "def print_expenses(expenses):\n",
    "    for expense in expenses:\n",
    "        print(f'Amount: {expense[\"amount\"]}, Category: {expense[\"category\"]}')\n",
    "    \n",
    "def total_expenses(expenses):\n",
    "    lambda expense: expense['amount']\n",
    "    map(lambda expense: expense['amount'],expenses)\n",
    "\n",
    "expenses = []"
   ]
  },
  {
   "cell_type": "code",
   "execution_count": 12,
   "id": "afaf43c9-aa76-4c8c-b3ee-e73adbc80629",
   "metadata": {},
   "outputs": [],
   "source": [
    "def add_expense(expenses, amount, category):\n",
    "    expenses.append({'amount': amount, 'category': category})\n",
    "    \n",
    "def print_expenses(expenses):\n",
    "    for expense in expenses:\n",
    "        print(f'Amount: {expense[\"amount\"]}, Category: {expense[\"category\"]}')\n",
    "    \n",
    "def total_expenses(expenses):\n",
    "    return sum(map(lambda expense: expense['amount'], expenses)) #here we can't use the print call becaue it doesn't return the result when calling the total expenses function \n",
    "    \n",
    "\n",
    "\n",
    "expenses = []"
   ]
  },
  {
   "cell_type": "code",
   "execution_count": null,
   "id": "1edb3c20-2c74-4413-950c-95a297910fab",
   "metadata": {},
   "outputs": [],
   "source": [
    "def add_expense(expenses, amount, category):\n",
    "    expenses.append({'amount': amount, 'category': category})\n",
    "    \n",
    "def print_expenses(expenses):\n",
    "    for expense in expenses:\n",
    "        print(f'Amount: {expense[\"amount\"]}, Category: {expense[\"category\"]}')\n",
    "    \n",
    "def total_expenses(expenses):\n",
    "    return sum(map(lambda expense: expense['amount'], expenses))\n",
    "    \n",
    "def filter_expenses_by_category(expenses,category):\n",
    "    pass\n",
    "\n",
    "\n",
    "expenses = []"
   ]
  },
  {
   "cell_type": "code",
   "execution_count": null,
   "id": "042eff63-ff77-4b2d-bcfa-6feaac8ed217",
   "metadata": {},
   "outputs": [],
   "source": [
    "def add_expense(expenses, amount, category):\n",
    "    expenses.append({'amount': amount, 'category': category})\n",
    "    \n",
    "def print_expenses(expenses):\n",
    "    for expense in expenses:\n",
    "        print(f'Amount: {expense[\"amount\"]}, Category: {expense[\"category\"]}')\n",
    "    \n",
    "def total_expenses(expenses):\n",
    "    return sum(map(lambda expense: expense['amount'], expenses))\n",
    "    \n",
    "def filter_expenses_by_category(expenses, category):\n",
    "    return filter(lambda expense: expense['category'] == category, expenses)\n",
    "\n",
    "def main():\n",
    "    expenses = []\n",
    "    while True:\n",
    "        print('\\nExpense Tracker')\n",
    "        "
   ]
  },
  {
   "cell_type": "code",
   "execution_count": 1,
   "id": "a81d2b08-c67b-4e25-ba9d-a6e4de0ea065",
   "metadata": {},
   "outputs": [],
   "source": [
    "def add_expense(expenses, amount, category):\n",
    "    expenses.append({'amount': amount, 'category': category})\n",
    "    \n",
    "def print_expenses(expenses):\n",
    "    for expense in expenses:\n",
    "        print(f'Amount: {expense[\"amount\"]}, Category: {expense[\"category\"]}')\n",
    "    \n",
    "def total_expenses(expenses):\n",
    "    return sum(map(lambda expense: expense['amount'], expenses))\n",
    "    \n",
    "def filter_expenses_by_category(expenses, category):\n",
    "    return filter(lambda expense: expense['category'] == category, expenses)\n",
    "    \n",
    "def main():\n",
    "    expenses = []\n",
    "    while True:\n",
    "        print('\\nExpense Tracker')\n",
    "        print('1. Add an expense')\n",
    "        print('2. List all expenses')\n",
    "        print('3. Show total expenses')\n",
    "        print('4. Filter expenses by category')\n",
    "        print('5. Exit')\n",
    "        \n",
    "        choice = input('Enter your choice: ')"
   ]
  },
  {
   "cell_type": "code",
   "execution_count": null,
   "id": "8768cc40-44d7-4991-bb17-d899df59cc86",
   "metadata": {},
   "outputs": [],
   "source": [
    "def add_expense(expenses, amount, category):\n",
    "    expenses.append({'amount': amount, 'category': category})\n",
    "    \n",
    "def print_expenses(expenses):\n",
    "    for expense in expenses:\n",
    "        print(f'Amount: {expense[\"amount\"]}, Category: {expense[\"category\"]}')\n",
    "    \n",
    "def total_expenses(expenses):\n",
    "    return sum(map(lambda expense: expense['amount'], expenses))\n",
    "    \n",
    "def filter_expenses_by_category(expenses, category):\n",
    "    return filter(lambda expense: expense['category'] == category, expenses)\n",
    "    \n",
    "\n",
    "def main():\n",
    "    expenses = []\n",
    "    while True:\n",
    "        print('\\nExpense Tracker')\n",
    "        print('1. Add an expense')\n",
    "        print('2. List all expenses')\n",
    "        print('3. Show total expenses')\n",
    "        print('4. Filter expenses by category')\n",
    "        print('5. Exit')\n",
    "       \n",
    "        choice = input('Enter your choice: ')\n",
    "\n",
    "        if choice == '1':\n",
    "            amount = float(input('Enter amount: '))\n",
    "            category = input('Enter category: ')\n",
    "            add_expense(expenses, amount, category)\n",
    "\n",
    "        elif choice == '2':\n",
    "            print('\\nAll Expenses:')\n",
    "            print_expenses(expenses)\n",
    "    \n",
    "        elif choice == '3':\n",
    "            print('\\nTotal Expenses: ', total_expenses(expenses))\n",
    "    \n",
    "        elif choice == '4':\n",
    "            category = input('Enter category to filter: ')\n",
    "            print(f'\\nExpenses for {category}:')\n",
    "            expenses_from_category = filter_expenses_by_category(expenses, category)\n",
    "            print_expenses(expenses_from_category)\n",
    "    \n",
    "        elif choice == '5':\n",
    "            print('Exiting the program.')\n",
    "            break\n",
    "\n",
    "main()"
   ]
  },
  {
   "cell_type": "code",
   "execution_count": null,
   "id": "c2d3ffb2-db3d-4d0e-8556-4faeffcd6f6a",
   "metadata": {},
   "outputs": [],
   "source": []
  }
 ],
 "metadata": {
  "kernelspec": {
   "display_name": "Python 3 (ipykernel)",
   "language": "python",
   "name": "python3"
  },
  "language_info": {
   "codemirror_mode": {
    "name": "ipython",
    "version": 3
   },
   "file_extension": ".py",
   "mimetype": "text/x-python",
   "name": "python",
   "nbconvert_exporter": "python",
   "pygments_lexer": "ipython3",
   "version": "3.12.7"
  }
 },
 "nbformat": 4,
 "nbformat_minor": 5
}
