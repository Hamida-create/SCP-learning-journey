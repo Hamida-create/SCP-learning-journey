{
 "cells": [
  {
   "cell_type": "code",
   "execution_count": 1,
   "id": "6c387386-d0e0-4197-b6b3-7dec3b2f563d",
   "metadata": {},
   "outputs": [
    {
     "name": "stdout",
     "output_type": "stream",
     "text": [
      "a_long_and_complex_string\n"
     ]
    }
   ],
   "source": [
    "def convert_to_snake_case(pascal_or_camel_cased_string):\n",
    "    snake_cased_char_list = []\n",
    "    for char in pascal_or_camel_cased_string:\n",
    "        if char.isupper():\n",
    "            converted_character = '_' + char.lower()\n",
    "            snake_cased_char_list.append(converted_character)\n",
    "        else:\n",
    "            snake_cased_char_list.append(char)\n",
    "    snake_cased_string = ''.join(snake_cased_char_list)\n",
    "    clean_snake_cased_string = snake_cased_string.strip('_')\n",
    "\n",
    "    return clean_snake_cased_string\n",
    "def main():\n",
    "    print(convert_to_snake_case('aLongAndComplexString'))\n",
    "\n",
    "main()\n",
    "##using for loop "
   ]
  },
  {
   "cell_type": "code",
   "execution_count": 2,
   "id": "df9a186f-b0ee-4f7e-8528-94192d251ec0",
   "metadata": {},
   "outputs": [
    {
     "name": "stdout",
     "output_type": "stream",
     "text": [
      "None\n"
     ]
    }
   ],
   "source": [
    "def convert_to_snake_case(pascal_or_camel_cased_string):\n",
    "    #snake_cased_char_list = []\n",
    "    #for char in pascal_or_camel_cased_string:\n",
    "        #if char.isupper():\n",
    "            #converted_character = '_' + char.lower()\n",
    "            #snake_cased_char_list.append(converted_character)\n",
    "        #else:\n",
    "            #snake_cased_char_list.append(char)\n",
    "    #snake_cased_string = ''.join(snake_cased_char_list)\n",
    "    #clean_snake_cased_string = snake_cased_string.strip('_')\n",
    "    pass\n",
    "    #return clean_snake_cased_string\n",
    "def main():\n",
    "    print(convert_to_snake_case('aLongAndComplexString'))\n",
    "\n",
    "main()\n",
    "##using list cmprhension loop"
   ]
  },
  {
   "cell_type": "code",
   "execution_count": 3,
   "id": "cbd7e0a4-80e2-4fff-b3f1-0035bff09eb2",
   "metadata": {},
   "outputs": [
    {
     "name": "stdout",
     "output_type": "stream",
     "text": [
      "a_long_and_complex_string\n"
     ]
    }
   ],
   "source": [
    "def convert_to_snake_case(pascal_or_camel_cased_string):\n",
    "    # snake_cased_char_list = []\n",
    "    # for char in pascal_or_camel_cased_string:\n",
    "    #     if char.isupper():\n",
    "    #         converted_character = '_' + char.lower()\n",
    "    #         snake_cased_char_list.append(converted_character)\n",
    "    #     else:\n",
    "    #         snake_cased_char_list.append(char)\n",
    "    # snake_cased_string = ''.join(snake_cased_char_list)\n",
    "    # clean_snake_cased_string = snake_cased_string.strip('_')\n",
    "\n",
    "    # return clean_snake_cased_string\n",
    "\n",
    "    snake_cased_char_list = [\n",
    "        '_' + char.lower() if char.isupper()\n",
    "        else char\n",
    "        for char in pascal_or_camel_cased_string ## else char not... \n",
    "    ]\n",
    "\n",
    "    return ''.join(snake_cased_char_list).strip('_')\n",
    "\n",
    "def main():\n",
    "    print(convert_to_snake_case('aLongAndComplexString'))\n",
    "\n",
    "main()"
   ]
  },
  {
   "cell_type": "code",
   "execution_count": null,
   "id": "058fda74-bb9d-4fb5-9828-6c49585eba11",
   "metadata": {},
   "outputs": [],
   "source": []
  },
  {
   "cell_type": "code",
   "execution_count": null,
   "id": "2d93f049-c849-469d-b080-c841026a5d6e",
   "metadata": {},
   "outputs": [],
   "source": []
  },
  {
   "cell_type": "code",
   "execution_count": null,
   "id": "ee9a3174-b2f7-47b8-9ed2-1be4cf2babb4",
   "metadata": {},
   "outputs": [],
   "source": []
  },
  {
   "cell_type": "code",
   "execution_count": null,
   "id": "3e98a3c0-185c-49fe-977d-8bf5131ceecd",
   "metadata": {},
   "outputs": [],
   "source": []
  }
 ],
 "metadata": {
  "kernelspec": {
   "display_name": "Python 3 (ipykernel)",
   "language": "python",
   "name": "python3"
  },
  "language_info": {
   "codemirror_mode": {
    "name": "ipython",
    "version": 3
   },
   "file_extension": ".py",
   "mimetype": "text/x-python",
   "name": "python",
   "nbconvert_exporter": "python",
   "pygments_lexer": "ipython3",
   "version": "3.12.7"
  }
 },
 "nbformat": 4,
 "nbformat_minor": 5
}
